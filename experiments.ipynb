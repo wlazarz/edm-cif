{
 "cells": [
  {
   "cell_type": "code",
   "id": "initial_id",
   "metadata": {
    "collapsed": true
   },
   "source": [
    "import sys\n",
    "sys.path.append('..')\n",
    "\n",
    "from utils.DatabaseUtils import SQLLiteUtils\n",
    "from utils.FileSystemUtils import FileSystemUtils\n",
    "from consts.const_variables import *\n",
    "from utils.common_utils import *\n",
    "from utils.setup import set_me_up\n",
    "from time import time\n",
    "from algorithms.rock import Rock\n",
    "from algorithms.clope import Clope\n",
    "from algorithms.outlier_detection_algorithms import *\n",
    "from algorithms.edm_cif import EDM_CIF\n",
    "from utils.data_objects import *\n",
    "from collections import Counter\n",
    "import os\n",
    "import warnings\n",
    "warnings.filterwarnings(\"ignore\")\n",
    "os.chdir(\"..\")\n",
    "set_me_up()\n",
    "\n",
    "db_session = SQLLiteUtils(database)\n",
    "fs_utils = FileSystemUtils('data')\n",
    "datasets, datasets_class, ohe_datasets = read_datasets_to_dict(db_session)"
   ],
   "outputs": [],
   "execution_count": null
  },
  {
   "metadata": {},
   "cell_type": "code",
   "source": [
    "from utils.common_utils import *\n",
    "name = 'nursery_centers_1_0'\n",
    "is_synthetic = 'real'\n",
    "path = 'data/raw_outliers/nursery_centers_1_0.csv'\n",
    "new_df = pd.read_csv(path)\n",
    "\n",
    "class_ = new_df['class']\n",
    "new_df.drop('class', axis=1, inplace=True)\n",
    "\n",
    "new_df = (new_df.replace('?', None)\n",
    "      .replace('undefined', None)\n",
    "      .replace('unknown', None)\n",
    "      .replace('nan', None)\n",
    "      .replace(np.nan, None))\n",
    "for c in new_df.columns:\n",
    "    new_df[c] = new_df[c].fillna(new_df[c].mode()[0])\n",
    "\n",
    "ohe_data = ohe(new_df)\n",
    "\n",
    "label_codes = {label: i if label not in ['-1', -1] else -1 for i, label in enumerate(set(class_))}\n",
    "coded_class = pd.Series([label_codes[i] for i in class_]).astype(int)\n",
    "\n",
    "ohe_datasets[is_synthetic][name] = ohe_data\n",
    "datasets[is_synthetic][name] = new_df.astype(str)\n",
    "datasets_class[is_synthetic][name] = coded_class"
   ],
   "id": "484cb0f2491f104f",
   "outputs": [],
   "execution_count": null
  },
  {
   "metadata": {},
   "cell_type": "code",
   "source": [
    "do_uzycia = ['agaricus-lepiota', 'balance-scale', 'car', 'house-votes-84', 'nursery', 'NPHA-doctor-visits', 'splice', 'hiv_protease_cleavage', 'Interests_group', 'bike_buyers']\n",
    "\n",
    "do_uzycia_z_outlierami = ['primary-tumor_only_outliers']\n",
    "datasets['real'].keys()"
   ],
   "id": "847f259f559764fa",
   "outputs": [],
   "execution_count": null
  },
  {
   "metadata": {},
   "cell_type": "code",
   "source": [
    "################### TEST ROCK ############################\n",
    "\n",
    "name = 'agaricus-lepiota'\n",
    "dataset_type = 'real'\n",
    "df = datasets[dataset_type][name]\n",
    "df_ohe = ohe_datasets[dataset_type][name]\n",
    "class_ = datasets_class[dataset_type][name]\n",
    "print('Real classes:', len(set(class_))-1, \" Real outliers:\", len(class_.loc[class_==-1]))\n",
    "\n",
    "obj = Rock(eps=0.5, k=20)\n",
    "t = time()\n",
    "obj.fit_predict(df.to_numpy())\n",
    "t = time()-t\n",
    "labels = obj.labels\n",
    "print(Counter(int(x) for x in labels))"
   ],
   "id": "d8bdaf2269f1b487",
   "outputs": [],
   "execution_count": null
  },
  {
   "metadata": {},
   "cell_type": "code",
   "source": [
    "# wyszukać 0.5%, 2%, 10% w rzeczywistych zbiorach\n",
    "threshold = 1\n",
    "result = obj.select_outliers(threshold)\n",
    "print(\"All finded:\", len(result[result==-1]), \" Matches:\", np.sum((result == -1) & (class_.to_numpy() == -1)))"
   ],
   "id": "8c5794688a762ef4",
   "outputs": [],
   "execution_count": null
  },
  {
   "metadata": {},
   "cell_type": "code",
   "source": [
    "############### REAL #####################\n",
    "out_process = OutlierDetectionProcess(algorithm='rock', split_mode=None, split_method=None, dataset=name, dataset_type=dataset_type,\n",
    "                                      n_estimators=None, max_samples=None, min_cluster_size=None, contamination=None, max_features=None,\n",
    "                                      alpha=None, beta=None, theta=None, epsilon=obj.eps, k=obj.k, ground_truth=0, clustering=1, time_sec=t,\n",
    "                                      metric=None, outliers_threshold=threshold)\n",
    "\n",
    "\n",
    "out_process.count_metrics(df, df_ohe, class_.to_numpy(), result)\n",
    "contrastive_outlier = ContrastiveOutlier(out_process.process_id)\n",
    "contrastive_outlier.calculate_configurations(df_ohe, result)"
   ],
   "id": "98df59a0c2a0cce9",
   "outputs": [],
   "execution_count": null
  },
  {
   "metadata": {},
   "cell_type": "code",
   "source": "out_process",
   "id": "33a0d55e829a94e2",
   "outputs": [],
   "execution_count": null
  },
  {
   "metadata": {},
   "cell_type": "code",
   "source": [
    "db_session.insert_into_table_from_dictionary(outliers_table_name, asdict(out_process))\n",
    "contrastive_outlier.insert_to_db(db_session, contrastive_outlier_score_table_name)"
   ],
   "id": "eeb66684b273db0e",
   "outputs": [],
   "execution_count": null
  },
  {
   "metadata": {},
   "cell_type": "code",
   "source": [
    "################### TEST CLOPE ############################\n",
    "name = 'bike_buyers'\n",
    "dataset_type = 'real'\n",
    "df = datasets[dataset_type][name]\n",
    "df_ohe = ohe_datasets[dataset_type][name]\n",
    "class_ = datasets_class[dataset_type][name]\n",
    "print('Real classes:', len(set(class_))-1, \" Real outliers:\", len(class_.loc[class_==-1]))\n",
    "\n",
    "obj = Clope(r=2.3)\n",
    "t = time()\n",
    "obj.fit_predict(df.to_numpy())\n",
    "t = time()-t\n",
    "labels = obj.labels\n",
    "print(Counter(int(x) for x in labels))"
   ],
   "id": "9065a236e66194cf",
   "outputs": [],
   "execution_count": null
  },
  {
   "metadata": {},
   "cell_type": "code",
   "source": [
    "threshold = 2\n",
    "result = obj.select_outliers(threshold)\n",
    "print(\"All finded:\", len(result[result==-1])/len(df), \" Matches:\", np.sum((result == -1) & (class_.to_numpy() == -1)))"
   ],
   "id": "4f32c84942172a47",
   "outputs": [],
   "execution_count": null
  },
  {
   "metadata": {},
   "cell_type": "code",
   "source": [
    "out_process = OutlierDetectionProcess(algorithm='clope', split_mode=None, split_method=None, dataset=name, dataset_type=dataset_type,\n",
    "                                      n_estimators=None, max_samples=None, min_cluster_size=None, contamination=None, max_features=None,\n",
    "                                      alpha=None, beta=None, theta=obj.r, epsilon=None, k=None, ground_truth=0, clustering=1, time_sec=t,\n",
    "                                      metric=None, outliers_threshold=threshold, n_neighbors=None, m=None, task=None)\n",
    "out_process.count_metrics(df, df_ohe, class_.to_numpy(), result)\n",
    "contrastive_outlier = ContrastiveOutlier(out_process.process_id)\n",
    "contrastive_outlier.calculate_configurations(df_ohe, result)"
   ],
   "id": "bb60b83f6402113c",
   "outputs": [],
   "execution_count": null
  },
  {
   "metadata": {},
   "cell_type": "code",
   "source": [
    "db_session.insert_into_table_from_dictionary(outliers_table_name, asdict(out_process))\n",
    "contrastive_outlier.insert_to_db(db_session, contrastive_outlier_score_table_name)"
   ],
   "id": "a4776ff52c24e7ea",
   "outputs": [],
   "execution_count": null
  },
  {
   "metadata": {},
   "cell_type": "code",
   "source": [
    "################### TEST ISOLATION FOREST, LOF, CBLOF, DBSCAN ############################\n",
    "\n",
    "name = 'dataset_1'\n",
    "dataset_type = 'synthetic'\n",
    "df = datasets[dataset_type][name]\n",
    "df_ohe = ohe_datasets[dataset_type][name]\n",
    "class_ = datasets_class[dataset_type][name]\n",
    "print('Real classes:', len(set(class_))-1, \" Real outliers:\", len(class_.loc[class_==-1]))\n",
    "\n",
    "t = time()\n",
    "\n",
    "# Isolation Forest algorithm\n",
    "iso, iso_params, iso_labels = IsolationForest(df_ohe, 0.02)\n",
    "\n",
    "# LOF algorithm\n",
    "lof, lof_params, lof_labels = LOF(df_ohe, 0.02)\n",
    "\n",
    "# CBLOF algorithm\n",
    "cblof, cblof_params, cblof_labels = CBLOF(df_ohe, 0.02)\n",
    "\n",
    "# HDBSCAN algorithm\n",
    "hdbscan, hdbscan_params, hdbscan_labels = HDBSCAN(df_ohe)\n",
    "\n",
    "\n",
    "t = time()-t\n",
    "print(Counter(int(x) for x in labels))\n",
    "print(\"All finded:\", len(labels[labels==-1])/len(df), \" Matches:\", np.sum((labels == -1) & (class_.to_numpy() == -1)))"
   ],
   "id": "18dcb0316f364ea6",
   "outputs": [],
   "execution_count": null
  },
  {
   "metadata": {},
   "cell_type": "code",
   "source": [
    "out_process = OutlierDetectionProcess(algorithm='lof', split_mode=None, split_method=None, dataset=name, dataset_type=dataset_type,\n",
    "                                      n_estimators=None, max_samples=None, min_cluster_size=None, contamination=iso.contamination, max_features=None,\n",
    "                                      alpha=None, beta=None, theta=None, epsilon=None, k=None, ground_truth=0, clustering=0, time_sec=t,\n",
    "                                      metric=iso.metric, outliers_threshold=None, n_neighbors=iso.n_neighbors, m=None)\n",
    "out_process.count_metrics(df, df_ohe, class_.to_numpy(), labels)\n",
    "contrastive_outlier = ContrastiveOutlier(out_process.process_id)\n",
    "contrastive_outlier.calculate_configurations(df_ohe, labels)\n",
    "db_session.insert_into_table_from_dictionary(outliers_table_name, asdict(out_process))\n",
    "contrastive_outlier.insert_to_db(db_session, contrastive_outlier_score_table_name)"
   ],
   "id": "1bed11352071838f",
   "outputs": [],
   "execution_count": null
  },
  {
   "metadata": {},
   "cell_type": "code",
   "source": [
    "out_process = OutlierDetectionProcess(algorithm='isolation_forest', split_mode=None, split_method=None, dataset=name, dataset_type=dataset_type,\n",
    "                                      n_estimators=iso.n_estimators, max_samples=iso.max_samples, min_cluster_size=None, contamination=iso.contamination, max_features=iso.max_features,\n",
    "                                      alpha=None, beta=None, theta=None, epsilon=None, k=None, ground_truth=1, clustering=0, time_sec=t,\n",
    "                                      metric=None, outliers_threshold=None, n_neighbors=None, m=None)\n",
    "out_process.count_metrics(df, df_ohe, class_.to_numpy(), labels)\n",
    "contrastive_outlier = ContrastiveOutlier(out_process.process_id)\n",
    "contrastive_outlier.calculate_configurations(df_ohe, labels)"
   ],
   "id": "c74ad5a18f6405e",
   "outputs": [],
   "execution_count": null
  }
 ],
 "metadata": {
  "kernelspec": {
   "display_name": "Python 3",
   "language": "python",
   "name": "python3"
  },
  "language_info": {
   "codemirror_mode": {
    "name": "ipython",
    "version": 2
   },
   "file_extension": ".py",
   "mimetype": "text/x-python",
   "name": "python",
   "nbconvert_exporter": "python",
   "pygments_lexer": "ipython2",
   "version": "2.7.6"
  }
 },
 "nbformat": 4,
 "nbformat_minor": 5
}
