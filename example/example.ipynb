{
 "cells": [
  {
   "metadata": {},
   "cell_type": "markdown",
   "source": [
    "### Lymphography Dataset\n",
    "Zwitter, M. & Soklic, M. (1988). Lymphography [Dataset]. UCI Machine Learning Repository. https://doi.org/10.24432/C54598."
   ],
   "id": "f3e5fa29d81ebaa5"
  },
  {
   "metadata": {
    "collapsed": true,
    "ExecuteTime": {
     "end_time": "2025-05-06T09:14:57.485002Z",
     "start_time": "2025-05-06T09:14:57.031480Z"
    }
   },
   "cell_type": "code",
   "source": [
    "import pandas as pd\n",
    "from edm_cif import EDM_CIF\n",
    "\n",
    "df = pd.read_csv('lymphography.csv', sep=',')\n",
    "df_class = df['class']\n",
    "df.drop('class', axis=1, inplace=True)\n",
    "for c in df.columns:\n",
    "    df[c] = df[c].fillna(df[c].mode()[0])\n",
    "\n",
    "df.head()"
   ],
   "id": "initial_id",
   "outputs": [
    {
     "data": {
      "text/plain": [
       "   lymphatics  block of affere  bl. of lymph  bl. of lymph.1  by pass  \\\n",
       "0           4                2             1               1        1   \n",
       "1           3                2             1               1        2   \n",
       "2           3                2             2               2        2   \n",
       "3           3                1             1               1        1   \n",
       "4           3                1             1               1        1   \n",
       "\n",
       "   extravasates  regeneration of  early uptake in  lym.nodes dimin  \\\n",
       "0             1                1                2                1   \n",
       "1             2                1                2                1   \n",
       "2             2                2                2                1   \n",
       "3             2                1                2                1   \n",
       "4             1                1                1                1   \n",
       "\n",
       "   lym.nodes enlar  changes in lym.  defect in node  changes in node  \\\n",
       "0                2                2               2                4   \n",
       "1                3                3               2                3   \n",
       "2                4                3               3                4   \n",
       "3                3                3               4                4   \n",
       "4                2                2               4                3   \n",
       "\n",
       "   changes in stru  special forms  dislocation  exclusion of no  \\\n",
       "0                8              1            1                2   \n",
       "1                4              2            2                2   \n",
       "2                8              3            2                2   \n",
       "3                4              3            1                2   \n",
       "4                5              1            2                2   \n",
       "\n",
       "   no. of nodes in  \n",
       "0                2  \n",
       "1                2  \n",
       "2                7  \n",
       "3                6  \n",
       "4                1  "
      ],
      "text/html": [
       "<div>\n",
       "<style scoped>\n",
       "    .dataframe tbody tr th:only-of-type {\n",
       "        vertical-align: middle;\n",
       "    }\n",
       "\n",
       "    .dataframe tbody tr th {\n",
       "        vertical-align: top;\n",
       "    }\n",
       "\n",
       "    .dataframe thead th {\n",
       "        text-align: right;\n",
       "    }\n",
       "</style>\n",
       "<table border=\"1\" class=\"dataframe\">\n",
       "  <thead>\n",
       "    <tr style=\"text-align: right;\">\n",
       "      <th></th>\n",
       "      <th>lymphatics</th>\n",
       "      <th>block of affere</th>\n",
       "      <th>bl. of lymph</th>\n",
       "      <th>bl. of lymph.1</th>\n",
       "      <th>by pass</th>\n",
       "      <th>extravasates</th>\n",
       "      <th>regeneration of</th>\n",
       "      <th>early uptake in</th>\n",
       "      <th>lym.nodes dimin</th>\n",
       "      <th>lym.nodes enlar</th>\n",
       "      <th>changes in lym.</th>\n",
       "      <th>defect in node</th>\n",
       "      <th>changes in node</th>\n",
       "      <th>changes in stru</th>\n",
       "      <th>special forms</th>\n",
       "      <th>dislocation</th>\n",
       "      <th>exclusion of no</th>\n",
       "      <th>no. of nodes in</th>\n",
       "    </tr>\n",
       "  </thead>\n",
       "  <tbody>\n",
       "    <tr>\n",
       "      <th>0</th>\n",
       "      <td>4</td>\n",
       "      <td>2</td>\n",
       "      <td>1</td>\n",
       "      <td>1</td>\n",
       "      <td>1</td>\n",
       "      <td>1</td>\n",
       "      <td>1</td>\n",
       "      <td>2</td>\n",
       "      <td>1</td>\n",
       "      <td>2</td>\n",
       "      <td>2</td>\n",
       "      <td>2</td>\n",
       "      <td>4</td>\n",
       "      <td>8</td>\n",
       "      <td>1</td>\n",
       "      <td>1</td>\n",
       "      <td>2</td>\n",
       "      <td>2</td>\n",
       "    </tr>\n",
       "    <tr>\n",
       "      <th>1</th>\n",
       "      <td>3</td>\n",
       "      <td>2</td>\n",
       "      <td>1</td>\n",
       "      <td>1</td>\n",
       "      <td>2</td>\n",
       "      <td>2</td>\n",
       "      <td>1</td>\n",
       "      <td>2</td>\n",
       "      <td>1</td>\n",
       "      <td>3</td>\n",
       "      <td>3</td>\n",
       "      <td>2</td>\n",
       "      <td>3</td>\n",
       "      <td>4</td>\n",
       "      <td>2</td>\n",
       "      <td>2</td>\n",
       "      <td>2</td>\n",
       "      <td>2</td>\n",
       "    </tr>\n",
       "    <tr>\n",
       "      <th>2</th>\n",
       "      <td>3</td>\n",
       "      <td>2</td>\n",
       "      <td>2</td>\n",
       "      <td>2</td>\n",
       "      <td>2</td>\n",
       "      <td>2</td>\n",
       "      <td>2</td>\n",
       "      <td>2</td>\n",
       "      <td>1</td>\n",
       "      <td>4</td>\n",
       "      <td>3</td>\n",
       "      <td>3</td>\n",
       "      <td>4</td>\n",
       "      <td>8</td>\n",
       "      <td>3</td>\n",
       "      <td>2</td>\n",
       "      <td>2</td>\n",
       "      <td>7</td>\n",
       "    </tr>\n",
       "    <tr>\n",
       "      <th>3</th>\n",
       "      <td>3</td>\n",
       "      <td>1</td>\n",
       "      <td>1</td>\n",
       "      <td>1</td>\n",
       "      <td>1</td>\n",
       "      <td>2</td>\n",
       "      <td>1</td>\n",
       "      <td>2</td>\n",
       "      <td>1</td>\n",
       "      <td>3</td>\n",
       "      <td>3</td>\n",
       "      <td>4</td>\n",
       "      <td>4</td>\n",
       "      <td>4</td>\n",
       "      <td>3</td>\n",
       "      <td>1</td>\n",
       "      <td>2</td>\n",
       "      <td>6</td>\n",
       "    </tr>\n",
       "    <tr>\n",
       "      <th>4</th>\n",
       "      <td>3</td>\n",
       "      <td>1</td>\n",
       "      <td>1</td>\n",
       "      <td>1</td>\n",
       "      <td>1</td>\n",
       "      <td>1</td>\n",
       "      <td>1</td>\n",
       "      <td>1</td>\n",
       "      <td>1</td>\n",
       "      <td>2</td>\n",
       "      <td>2</td>\n",
       "      <td>4</td>\n",
       "      <td>3</td>\n",
       "      <td>5</td>\n",
       "      <td>1</td>\n",
       "      <td>2</td>\n",
       "      <td>2</td>\n",
       "      <td>1</td>\n",
       "    </tr>\n",
       "  </tbody>\n",
       "</table>\n",
       "</div>"
      ]
     },
     "execution_count": 1,
     "metadata": {},
     "output_type": "execute_result"
    }
   ],
   "execution_count": 1
  },
  {
   "metadata": {
    "ExecuteTime": {
     "end_time": "2025-05-06T09:14:57.518905Z",
     "start_time": "2025-05-06T09:14:57.513108Z"
    }
   },
   "cell_type": "code",
   "source": "df_class.value_counts()",
   "id": "9cff6f61d36d166a",
   "outputs": [
    {
     "data": {
      "text/plain": [
       "class\n",
       "2    81\n",
       "3    61\n",
       "4     4\n",
       "1     2\n",
       "Name: count, dtype: int64"
      ]
     },
     "execution_count": 2,
     "metadata": {},
     "output_type": "execute_result"
    }
   ],
   "execution_count": 2
  },
  {
   "metadata": {
    "ExecuteTime": {
     "end_time": "2025-05-06T09:15:01.012947Z",
     "start_time": "2025-05-06T09:14:58.731807Z"
    }
   },
   "cell_type": "code",
   "source": [
    "alg = EDM_CIF(n_estimators=300, max_features=5, max_samples=500, m=2, contamination=0.04)\n",
    "labels = alg.fit_predict(df)\n",
    "\n",
    "df['class'] = df_class\n",
    "df['labels'] = labels\n",
    "\n",
    "result = df.groupby(['labels', 'class']).size().unstack(fill_value=0)\n",
    "result"
   ],
   "id": "422cede37826c78a",
   "outputs": [
    {
     "data": {
      "text/plain": [
       "class   1   2   3  4\n",
       "labels              \n",
       "-1      2   1   0  3\n",
       " 1      0  80  61  1"
      ],
      "text/html": [
       "<div>\n",
       "<style scoped>\n",
       "    .dataframe tbody tr th:only-of-type {\n",
       "        vertical-align: middle;\n",
       "    }\n",
       "\n",
       "    .dataframe tbody tr th {\n",
       "        vertical-align: top;\n",
       "    }\n",
       "\n",
       "    .dataframe thead th {\n",
       "        text-align: right;\n",
       "    }\n",
       "</style>\n",
       "<table border=\"1\" class=\"dataframe\">\n",
       "  <thead>\n",
       "    <tr style=\"text-align: right;\">\n",
       "      <th>class</th>\n",
       "      <th>1</th>\n",
       "      <th>2</th>\n",
       "      <th>3</th>\n",
       "      <th>4</th>\n",
       "    </tr>\n",
       "    <tr>\n",
       "      <th>labels</th>\n",
       "      <th></th>\n",
       "      <th></th>\n",
       "      <th></th>\n",
       "      <th></th>\n",
       "    </tr>\n",
       "  </thead>\n",
       "  <tbody>\n",
       "    <tr>\n",
       "      <th>-1</th>\n",
       "      <td>2</td>\n",
       "      <td>1</td>\n",
       "      <td>0</td>\n",
       "      <td>3</td>\n",
       "    </tr>\n",
       "    <tr>\n",
       "      <th>1</th>\n",
       "      <td>0</td>\n",
       "      <td>80</td>\n",
       "      <td>61</td>\n",
       "      <td>1</td>\n",
       "    </tr>\n",
       "  </tbody>\n",
       "</table>\n",
       "</div>"
      ]
     },
     "execution_count": 3,
     "metadata": {},
     "output_type": "execute_result"
    }
   ],
   "execution_count": 3
  },
  {
   "metadata": {
    "ExecuteTime": {
     "end_time": "2025-05-06T09:15:01.331120Z",
     "start_time": "2025-05-06T09:15:01.034533Z"
    }
   },
   "cell_type": "code",
   "source": "alg.predict_proba(df)",
   "id": "948e51fd45b9fd2",
   "outputs": [
    {
     "data": {
      "text/plain": [
       "array([0.26920024, 0.20584569, 0.52958881, 0.34604386, 0.13871393,\n",
       "       0.36614088, 0.12861353, 0.33528194, 0.1993684 , 0.19376957,\n",
       "       0.36972295, 0.18099551, 0.30605527, 0.32462629, 0.88245022,\n",
       "       0.05439089, 0.20275448, 0.20296644, 0.14637772, 0.24992045,\n",
       "       0.16902917, 0.41116704, 0.28075142, 0.25047222, 0.49271081,\n",
       "       0.17881269, 0.23357271, 0.15551225, 0.13173631, 0.16500257,\n",
       "       0.30345852, 0.08897185, 0.23448117, 0.35643444, 0.13187286,\n",
       "       0.20087365, 0.80738749, 0.24806612, 0.12316731, 0.34975535,\n",
       "       0.09632122, 0.4825018 , 0.32545996, 0.36143581, 0.62534446,\n",
       "       0.0487633 , 0.23181625, 0.46704498, 0.31289418, 0.15402564,\n",
       "       0.4332673 , 0.21834792, 0.25911409, 0.37812234, 0.31184439,\n",
       "       0.20418224, 0.12496847, 0.32583342, 0.61981831, 0.14366491,\n",
       "       0.38716593, 0.32119513, 0.30332096, 0.36143535, 0.08540369,\n",
       "       0.49497154, 0.31970826, 0.35246128, 0.24502375, 0.31808314,\n",
       "       0.0796442 , 0.32510355, 0.44872441, 0.35671261, 0.29654781,\n",
       "       0.30779891, 0.31984468, 0.23535211, 0.97007205, 0.20774495,\n",
       "       0.12422094, 0.43355995, 0.12678017, 0.46341933, 0.26111583,\n",
       "       0.17720318, 0.06586819, 0.        , 0.07382535, 0.28287681,\n",
       "       0.65568002, 0.37012252, 0.51355768, 0.23674218, 0.23914376,\n",
       "       0.08079346, 0.28688233, 0.27680258, 0.21151011, 0.18192932,\n",
       "       0.10690447, 0.08689842, 0.25058204, 0.34644289, 0.29431464,\n",
       "       0.35468087, 0.05290632, 0.23591119, 0.36259202, 0.02020265,\n",
       "       0.14964609, 0.33718274, 0.19648073, 0.14517295, 0.29568563,\n",
       "       0.07278182, 0.41323047, 0.17281401, 0.26080489, 0.27583824,\n",
       "       0.26077728, 0.08975482, 0.37322951, 0.20413098, 0.22239928,\n",
       "       0.29084881, 0.17886594, 0.08954162, 0.13896605, 0.14029657,\n",
       "       0.37065278, 0.5233804 , 0.2925019 , 0.1594234 , 0.12148382,\n",
       "       0.33116936, 0.73968986, 0.1815819 , 0.11012928, 1.        ,\n",
       "       0.140987  , 0.19295571, 0.00319401, 0.31218686, 0.65636906,\n",
       "       0.11608143, 0.20393635, 0.26683973])"
      ]
     },
     "execution_count": 4,
     "metadata": {},
     "output_type": "execute_result"
    }
   ],
   "execution_count": 4
  },
  {
   "metadata": {},
   "cell_type": "markdown",
   "source": "### Costrastive Outlier Score (COS)",
   "id": "ca2fee1a051765e4"
  },
  {
   "metadata": {
    "ExecuteTime": {
     "end_time": "2025-05-06T09:15:04.859994Z",
     "start_time": "2025-05-06T09:15:04.220891Z"
    }
   },
   "cell_type": "code",
   "source": [
    "from contrastive_outlier_score import contrastive_outlier_score, one_hot_encoding\n",
    "\n",
    "cos = contrastive_outlier_score(df=df, labels=labels, metric='hamming', strategy='n_closest', n=20)\n",
    "print(cos)\n",
    "cos = contrastive_outlier_score(df=df, labels=labels, metric='hamming', strategy='n_closest', n=100)\n",
    "print(cos)"
   ],
   "id": "693615cc28882241",
   "outputs": [
    {
     "name": "stdout",
     "output_type": "stream",
     "text": [
      "0.5092\n",
      "0.6148\n"
     ]
    }
   ],
   "execution_count": 5
  },
  {
   "metadata": {
    "ExecuteTime": {
     "end_time": "2025-05-06T09:17:07.440641Z",
     "start_time": "2025-05-06T09:15:14.337420Z"
    }
   },
   "cell_type": "code",
   "source": [
    "import matplotlib.pyplot as plt\n",
    "from itertools import product\n",
    "import warnings\n",
    "from collections import Counter\n",
    "warnings.filterwarnings('ignore')\n",
    "\n",
    "param_grid = {\n",
    "    'n_estimators': [50, 100, 200],\n",
    "    'max_samples': [50, 100, 200, 500],\n",
    "    'max_features': [0.2, 0.5, 1.0],\n",
    "    'm': [2, 3, 5]\n",
    "}\n",
    "\n",
    "results = []\n",
    "for n_estimators, max_samples, max_features, m in product(param_grid['n_estimators'],\n",
    "                                            param_grid['max_samples'],\n",
    "                                            param_grid['max_features'],\n",
    "                                            param_grid['m']):\n",
    "\n",
    "    alg = EDM_CIF(n_estimators=n_estimators, max_features=max_features, max_samples=max_samples, m=m, contamination=0.04)\n",
    "    labels = alg.fit_predict(df)\n",
    "\n",
    "    cos_score = contrastive_outlier_score(one_hot_encoding(df), labels, metric='hamming', strategy='n_closest', n=20)\n",
    "    results.append({\n",
    "        'max_samples': max_samples,\n",
    "        'max_features': max_features,\n",
    "        'm': m,\n",
    "        'COS': cos_score\n",
    "    })\n",
    "\n",
    "\n",
    "results_df = pd.DataFrame(results)\n",
    "pivot_table = results_df.pivot_table(values='COS', index='max_samples', columns=['max_features', 'm'])\n",
    "\n",
    "fig, ax = plt.subplots(figsize=(10, 6))\n",
    "pivot_table.plot(kind='bar', ax=ax)\n",
    "ax.set_title('COS Score by Parameter Configuration')\n",
    "ax.set_ylabel('Contrastive Outlier Score')\n",
    "ax.set_xlabel('Max Samples')\n",
    "ax.legend(title='(Max Features, m)', bbox_to_anchor=(1.05, 1), loc='upper left')\n",
    "plt.tight_layout()\n",
    "plt.show()"
   ],
   "id": "b412a89c65b6fbe",
   "outputs": [
    {
     "data": {
      "text/plain": [
       "<Figure size 1000x600 with 1 Axes>"
      ],
      "image/png": "[encoded data removed]"
     },
     "metadata": {},
     "output_type": "display_data"
    }
   ],
   "execution_count": 7
  },
  {
   "metadata": {},
   "cell_type": "code",
   "outputs": [],
   "execution_count": null,
   "source": "",
   "id": "7a9a843581347973"
  }
 ],
 "metadata": {
  "kernelspec": {
   "display_name": "Python 3",
   "language": "python",
   "name": "python3"
  },
  "language_info": {
   "codemirror_mode": {
    "name": "ipython",
    "version": 2
   },
   "file_extension": ".py",
   "mimetype": "text/x-python",
   "name": "python",
   "nbconvert_exporter": "python",
   "pygments_lexer": "ipython2",
   "version": "2.7.6"
  }
 },
 "nbformat": 4,
 "nbformat_minor": 5
}
