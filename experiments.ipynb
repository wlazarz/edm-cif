{
 "cells": [
  {
   "cell_type": "code",
   "id": "initial_id",
   "metadata": {
    "collapsed": true,
    "ExecuteTime": {
     "end_time": "2025-06-26T14:42:37.045069Z",
     "start_time": "2025-06-26T14:42:32.794730Z"
    }
   },
   "source": [
    "import sys\n",
    "sys.path.append('..')\n",
    "\n",
    "from utils.DatabaseUtils import SQLLiteUtils\n",
    "from utils.FileSystemUtils import FileSystemUtils\n",
    "from consts.const_variables import *\n",
    "from utils.common_utils import *\n",
    "from utils.setup import set_me_up\n",
    "from time import time\n",
    "from algorithms.rock import Rock\n",
    "from algorithms.clope import Clope\n",
    "from algorithms.outlier_detection_algorithms import *\n",
    "from algorithms.edm_cif import EDM_CIF\n",
    "from utils.data_objects import *\n",
    "from collections import Counter\n",
    "import os\n",
    "import warnings\n",
    "warnings.filterwarnings(\"ignore\")\n",
    "os.chdir(\"..\")\n",
    "set_me_up()\n",
    "\n",
    "db_session = SQLLiteUtils(database)\n",
    "fs_utils = FileSystemUtils('data')\n",
    "datasets, datasets_class, ohe_datasets = read_datasets_to_dict(db_session)"
   ],
   "outputs": [
    {
     "name": "stdout",
     "output_type": "stream",
     "text": [
      "Working Directory Set To: C:\\Users\\imagi\\PycharmProjects\\edm-cif\n"
     ]
    }
   ],
   "execution_count": 1
  },
  {
   "metadata": {
    "ExecuteTime": {
     "end_time": "2025-06-26T14:42:37.054602Z",
     "start_time": "2025-06-26T14:42:37.049079Z"
    }
   },
   "cell_type": "code",
   "source": "datasets['real'].keys()",
   "id": "766754e48ee0547a",
   "outputs": [
    {
     "data": {
      "text/plain": [
       "dict_keys(['agaricus-lepiota', 'breast-cancer', 'balance-scale', 'car', 'house-votes-84', 'nursery', 'soybean-large', 'NPHA-doctor-visits', 'flare1', 'flare2', 'primary-tumor', 'SPECT', 'promoters', 'monks', 'lymphoraphy', 'splice', 'hiv_protease_cleavage', 'Interests_group', 'diamonds', 'bike_buyers'])"
      ]
     },
     "execution_count": 2,
     "metadata": {},
     "output_type": "execute_result"
    }
   ],
   "execution_count": 2
  },
  {
   "metadata": {
    "ExecuteTime": {
     "end_time": "2025-06-26T14:43:05.512949Z",
     "start_time": "2025-06-26T14:42:37.184114Z"
    }
   },
   "cell_type": "code",
   "source": [
    "################### TEST ROCK ############################\n",
    "\n",
    "name = 'agaricus-lepiota'\n",
    "dataset_type = 'real'\n",
    "df = datasets[dataset_type][name]\n",
    "df_ohe = ohe_datasets[dataset_type][name]\n",
    "class_ = datasets_class[dataset_type][name]\n",
    "print('Real classes:', len(set(class_))-1, \" Real outliers:\", len(class_.loc[class_==-1]))\n",
    "\n",
    "obj = Rock(eps=0.5, k=20)\n",
    "t = time()\n",
    "obj.fit_predict(df.to_numpy())\n",
    "t = time()-t\n",
    "labels = obj.labels\n",
    "print(Counter(int(x) for x in labels))"
   ],
   "id": "d8bdaf2269f1b487",
   "outputs": [
    {
     "name": "stdout",
     "output_type": "stream",
     "text": [
      "Real classes: 1  Real outliers: 0\n",
      "Counter({4: 1728, 9: 1728, 5: 1296, 0: 960, 1: 768, 7: 288, 16: 288, 6: 192, 8: 192, 15: 192, 11: 104, 2: 96, 3: 96, 10: 48, 12: 48, 17: 36, 13: 32, 19: 16, 14: 8, 18: 8})\n"
     ]
    }
   ],
   "execution_count": 3
  },
  {
   "metadata": {
    "ExecuteTime": {
     "end_time": "2025-06-26T14:43:05.534912Z",
     "start_time": "2025-06-26T14:43:05.530912Z"
    }
   },
   "cell_type": "code",
   "source": [
    "# wyszukać 0.5%, 2%, 10% w rzeczywistych zbiorach\n",
    "threshold = 8\n",
    "result = obj.select_outliers(threshold)\n",
    "print(\"All finded:\", len(result[result==-1]), \" Matches:\", np.sum((result == -1) & (class_.to_numpy() == -1)))"
   ],
   "id": "8c5794688a762ef4",
   "outputs": [
    {
     "name": "stdout",
     "output_type": "stream",
     "text": [
      "All finded: 16  Matches: 0\n"
     ]
    }
   ],
   "execution_count": 4
  },
  {
   "metadata": {
    "ExecuteTime": {
     "end_time": "2025-06-26T14:43:14.672749Z",
     "start_time": "2025-06-26T14:43:05.553462Z"
    }
   },
   "cell_type": "code",
   "source": [
    "############### REAL #####################\n",
    "out_process = OutlierDetectionProcess(algorithm='rock', split_mode=None, split_method=None, dataset=name, dataset_type=dataset_type,\n",
    "                                      n_estimators=None, max_samples=None, min_cluster_size=None, contamination=None, max_features=None,\n",
    "                                      alpha=None, beta=None, theta=None, epsilon=obj.eps, k=obj.k, ground_truth=0, clustering=1, time_sec=t,\n",
    "                                      metric=None, outliers_threshold=threshold, n_neighbors=None, task=None, m=None)\n",
    "\n",
    "\n",
    "out_process.count_metrics(df, df_ohe, class_.to_numpy(), result)\n",
    "contrastive_outlier = ContrastiveOutlier(out_process.process_id)\n",
    "contrastive_outlier.calculate_configurations(df_ohe, result)"
   ],
   "id": "98df59a0c2a0cce9",
   "outputs": [],
   "execution_count": 5
  },
  {
   "metadata": {
    "ExecuteTime": {
     "end_time": "2025-06-26T14:43:14.694450Z",
     "start_time": "2025-06-26T14:43:14.690140Z"
    }
   },
   "cell_type": "code",
   "source": "out_process",
   "id": "33a0d55e829a94e2",
   "outputs": [
    {
     "data": {
      "text/plain": [
       "OutlierDetectionProcess(algorithm='rock', dataset='agaricus-lepiota', dataset_type='real', split_mode=None, split_method=None, n_estimators=None, max_samples=None, min_cluster_size=None, contamination=None, n_neighbors=None, max_features=None, alpha=None, beta=None, epsilon=0.5, k=20, m=None, theta=None, metric=None, ground_truth=0, clustering=1, outliers_threshold=8, time_sec=28.321336269378662, task='outliers_detection', detected_outliers_num=16, detected_outliers_perc=0.002, real_outliers_num=None, real_outliers_perc=None, precision=None, recall=None, accuracy=None, tp=None, tn=None, fp=None, fn=None, tpr=None, tnr=None, fpr=None, fnr=None, clusters=18, silhouette_score=0.4712, calinski_harabasz_score=735.1825, davies_bouldin_score=0.3919, dunn_index=0.2727, cluster_entropy=0.4759, fmi=None, ari=None, vi=None, nmi=None, shannon=None, process_id='b3789783e30a4c2fa76a13e25c6cbec8', distribution='{0: 960, 1: 768, 2: 96, 3: 96, 4: 1728, 5: 1296, 6: 192, 7: 288, 8: 192, 9: 1728, 10: 48, 11: 104, 12: 48, 13: 32, -1: 16, 14: 192, 15: 288, 16: 36, 17: 16}')"
      ]
     },
     "execution_count": 6,
     "metadata": {},
     "output_type": "execute_result"
    }
   ],
   "execution_count": 6
  },
  {
   "metadata": {
    "ExecuteTime": {
     "end_time": "2025-06-26T14:43:14.715068Z",
     "start_time": "2025-06-26T14:43:14.712526Z"
    }
   },
   "cell_type": "code",
   "source": [
    "#db_session.insert_into_table_from_dictionary(outliers_table_name, asdict(out_process))\n",
    "#contrastive_outlier.insert_to_db(db_session, contrastive_outlier_score_table_name)"
   ],
   "id": "eeb66684b273db0e",
   "outputs": [],
   "execution_count": 7
  },
  {
   "metadata": {
    "ExecuteTime": {
     "end_time": "2025-06-26T14:43:14.814992Z",
     "start_time": "2025-06-26T14:43:14.759861Z"
    }
   },
   "cell_type": "code",
   "source": [
    "################### TEST CLOPE ############################\n",
    "name = 'bike_buyers'\n",
    "dataset_type = 'real'\n",
    "df = datasets[dataset_type][name]\n",
    "df_ohe = ohe_datasets[dataset_type][name]\n",
    "class_ = datasets_class[dataset_type][name]\n",
    "print('Real classes:', len(set(class_))-1, \" Real outliers:\", len(class_.loc[class_==-1]))\n",
    "\n",
    "obj = Clope(r=1.2)\n",
    "t = time()\n",
    "obj.fit_predict(df.to_numpy())\n",
    "t = time()-t\n",
    "labels = obj.labels\n",
    "print(Counter(int(x) for x in labels))"
   ],
   "id": "9065a236e66194cf",
   "outputs": [
    {
     "name": "stdout",
     "output_type": "stream",
     "text": [
      "Real classes: 1  Real outliers: 0\n",
      "Counter({5: 375, 1: 236, 6: 132, 2: 98, 3: 67, 4: 58, 0: 28, 7: 6})\n"
     ]
    }
   ],
   "execution_count": 8
  },
  {
   "metadata": {
    "ExecuteTime": {
     "end_time": "2025-06-26T14:43:14.825536Z",
     "start_time": "2025-06-26T14:43:14.821004Z"
    }
   },
   "cell_type": "code",
   "source": [
    "threshold = 6\n",
    "result = obj.select_outliers(threshold)\n",
    "print(\"All finded:\", len(result[result==-1])/len(df), \" Matches:\", np.sum((result == -1) & (class_.to_numpy() == -1)))"
   ],
   "id": "4f32c84942172a47",
   "outputs": [
    {
     "name": "stdout",
     "output_type": "stream",
     "text": [
      "All finded: 0.006  Matches: 0\n"
     ]
    }
   ],
   "execution_count": 9
  },
  {
   "metadata": {
    "ExecuteTime": {
     "end_time": "2025-06-26T14:43:15.038003Z",
     "start_time": "2025-06-26T14:43:14.842611Z"
    }
   },
   "cell_type": "code",
   "source": [
    "out_process = OutlierDetectionProcess(algorithm='clope', split_mode=None, split_method=None, dataset=name, dataset_type=dataset_type,\n",
    "                                      n_estimators=None, max_samples=None, min_cluster_size=None, contamination=None, max_features=None,\n",
    "                                      alpha=None, beta=None, theta=obj.r, epsilon=None, k=None, ground_truth=0, clustering=1, time_sec=t,\n",
    "                                      metric=None, outliers_threshold=threshold, n_neighbors=None, m=None, task=None)\n",
    "out_process.count_metrics(df, df_ohe, class_.to_numpy(), result)\n",
    "contrastive_outlier = ContrastiveOutlier(out_process.process_id)\n",
    "contrastive_outlier.calculate_configurations(df_ohe, result)"
   ],
   "id": "bb60b83f6402113c",
   "outputs": [],
   "execution_count": 10
  },
  {
   "metadata": {
    "ExecuteTime": {
     "end_time": "2025-06-26T14:43:15.056660Z",
     "start_time": "2025-06-26T14:43:15.053646Z"
    }
   },
   "cell_type": "code",
   "source": [
    "#db_session.insert_into_table_from_dictionary(outliers_table_name, asdict(out_process))\n",
    "#contrastive_outlier.insert_to_db(db_session, contrastive_outlier_score_table_name)"
   ],
   "id": "a4776ff52c24e7ea",
   "outputs": [],
   "execution_count": 11
  },
  {
   "metadata": {
    "ExecuteTime": {
     "end_time": "2025-06-26T14:50:46.205189Z",
     "start_time": "2025-06-26T14:50:03.376975Z"
    }
   },
   "cell_type": "code",
   "source": [
    "################### TEST ISOLATION FOREST, LOF, CBLOF, DBSCAN ############################\n",
    "\n",
    "name = 'dataset_1'\n",
    "dataset_type = 'synthetic'\n",
    "df = datasets[dataset_type][name]\n",
    "df_ohe = ohe_datasets[dataset_type][name]\n",
    "class_ = datasets_class[dataset_type][name].astype(int)\n",
    "print('Real classes:', len(set(class_))-1, \" Real outliers:\", len(class_.loc[class_==-1]))\n",
    "\n",
    "# Isolation Forest algorithm\n",
    "iso, iso_params, iso_labels = HyperIF(df_ohe, 0.02)\n",
    "\n",
    "# LOF algorithm\n",
    "lof, lof_params, lof_labels = HyperLOF(df_ohe, 0.02)\n",
    "\n",
    "# CBLOF algorithm\n",
    "cblof, cblof_params, cblof_labels = HyperCBLOF(df_ohe, 0.02)\n",
    "\n",
    "# HDBSCAN algorithm\n",
    "hdbscan, hdbscan_params, hdbscan_labels = HyperHDBSCAN(df_ohe)\n",
    "\n",
    "# EDM-CIF algorithm\n",
    "edm_cif = EDM_CIF(n_estimators=300, max_features=5, max_samples=500, m=2, contamination=0.04)\n",
    "edm_cif_labels = edm_cif.fit_predict(df)\n",
    "\n",
    "print(\"Isolation Forest results\")\n",
    "print(Counter(int(x) for x in iso_labels))\n",
    "print(\"All finded:\", len(iso_labels[iso_labels==-1])/len(df), \" Matches:\", np.sum((iso_labels == -1) & (class_.to_numpy() == -1)))\n",
    "\n",
    "print(\"LOF results\")\n",
    "print(Counter(int(x) for x in lof_labels))\n",
    "print(\"All finded:\", len(lof_labels[lof_labels==-1])/len(df), \" Matches:\", np.sum((lof_labels == -1) & (class_.to_numpy() == -1)))\n",
    "\n",
    "print(\"CBLOF results\")\n",
    "print(Counter(int(x) for x in cblof_labels))\n",
    "print(\"All finded:\", len(cblof_labels[cblof_labels==-1])/len(df), \" Matches:\", np.sum((cblof_labels == -1) & (class_.to_numpy() == -1)))\n",
    "\n",
    "print(\"HDBSCAN results\")\n",
    "print(Counter(int(x) for x in hdbscan_labels))\n",
    "print(\"All finded:\", len(hdbscan_labels[hdbscan_labels==-1])/len(df), \" Matches:\", np.sum((hdbscan_labels == -1) & (class_.to_numpy() == -1)))\n",
    "\n",
    "print(\"EDM-CIF results\")\n",
    "print(Counter(int(x) for x in edm_cif_labels))\n",
    "print(\"All finded:\", len(edm_cif_labels[edm_cif_labels==-1])/len(df), \" Matches:\", np.sum((edm_cif_labels == -1) & (class_.to_numpy() == -1)))"
   ],
   "id": "18dcb0316f364ea6",
   "outputs": [
    {
     "name": "stdout",
     "output_type": "stream",
     "text": [
      "Real classes: 2  Real outliers: 60\n",
      "Isolation Forest results\n",
      "Counter({1: 2941, -1: 59})\n",
      "All finded: 0.019666666666666666  Matches: 38\n",
      "LOF results\n",
      "Counter({1: 2940, -1: 60})\n",
      "All finded: 0.02  Matches: 7\n",
      "CBLOF results\n",
      "Counter({0: 2960, -1: 40})\n",
      "All finded: 0.013333333333333334  Matches: 28\n",
      "HDBSCAN results\n",
      "Counter({39: 870, 25: 818, -1: 149, 19: 87, 34: 71, 10: 66, 6: 59, 31: 55, 23: 53, 26: 43, 16: 41, 21: 39, 24: 33, 30: 33, 37: 33, 22: 30, 13: 28, 33: 27, 9: 27, 3: 27, 2: 25, 40: 25, 29: 25, 4: 25, 36: 24, 41: 23, 17: 22, 1: 22, 12: 22, 14: 21, 27: 20, 28: 19, 18: 19, 32: 18, 35: 17, 38: 14, 0: 14, 15: 12, 7: 12, 8: 11, 20: 7, 5: 7, 11: 7})\n",
      "All finded: 0.049666666666666665  Matches: 33\n",
      "EDM-CIF results\n",
      "Counter({1: 2879, -1: 121})\n",
      "All finded: 0.04033333333333333  Matches: 45\n"
     ]
    }
   ],
   "execution_count": 15
  },
  {
   "metadata": {},
   "cell_type": "code",
   "source": [
    "out_process = OutlierDetectionProcess(algorithm='lof', split_mode=None, split_method=None, dataset=name, dataset_type=dataset_type,\n",
    "                                      n_estimators=None, max_samples=None, min_cluster_size=None, contamination=iso.contamination, max_features=None,\n",
    "                                      alpha=None, beta=None, theta=None, epsilon=None, k=None, ground_truth=0, clustering=0, time_sec=t,\n",
    "                                      metric=iso.metric, outliers_threshold=None, n_neighbors=iso.n_neighbors, m=None, task=None)\n",
    "out_process.count_metrics(df, df_ohe, class_.to_numpy(), labels)\n",
    "contrastive_outlier = ContrastiveOutlier(out_process.process_id)\n",
    "contrastive_outlier.calculate_configurations(df_ohe, labels)\n",
    "db_session.insert_into_table_from_dictionary(outliers_table_name, asdict(out_process))\n",
    "contrastive_outlier.insert_to_db(db_session, contrastive_outlier_score_table_name)"
   ],
   "id": "1bed11352071838f",
   "outputs": [],
   "execution_count": null
  },
  {
   "metadata": {},
   "cell_type": "code",
   "source": [
    "out_process = OutlierDetectionProcess(algorithm='isolation_forest', split_mode=None, split_method=None, dataset=name, dataset_type=dataset_type,\n",
    "                                      n_estimators=iso.n_estimators, max_samples=iso.max_samples, min_cluster_size=None, contamination=iso.contamination, max_features=iso.max_features,\n",
    "                                      alpha=None, beta=None, theta=None, epsilon=None, k=None, ground_truth=1, clustering=0, time_sec=t,\n",
    "                                      metric=None, outliers_threshold=None, n_neighbors=None, m=None, task=None)\n",
    "out_process.count_metrics(df, df_ohe, class_.to_numpy(), labels)\n",
    "contrastive_outlier = ContrastiveOutlier(out_process.process_id)\n",
    "contrastive_outlier.calculate_configurations(df_ohe, labels)"
   ],
   "id": "c74ad5a18f6405e",
   "outputs": [],
   "execution_count": null
  }
 ],
 "metadata": {
  "kernelspec": {
   "display_name": "Python 3",
   "language": "python",
   "name": "python3"
  },
  "language_info": {
   "codemirror_mode": {
    "name": "ipython",
    "version": 2
   },
   "file_extension": ".py",
   "mimetype": "text/x-python",
   "name": "python",
   "nbconvert_exporter": "python",
   "pygments_lexer": "ipython2",
   "version": "2.7.6"
  }
 },
 "nbformat": 4,
 "nbformat_minor": 5
}
